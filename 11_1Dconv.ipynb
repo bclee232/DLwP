{
  "nbformat": 4,
  "nbformat_minor": 0,
  "metadata": {
    "colab": {
      "name": "11_1Dconv.ipynb",
      "provenance": [],
      "collapsed_sections": [],
      "mount_file_id": "1yy4Grp0S3tFGzBCNC9h9OX95r24jBqPT",
      "authorship_tag": "ABX9TyMC2Xx49TUY3++pWhw1c0Lz",
      "include_colab_link": true
    },
    "kernelspec": {
      "name": "python3",
      "display_name": "Python 3"
    }
  },
  "cells": [
    {
      "cell_type": "markdown",
      "metadata": {
        "id": "view-in-github",
        "colab_type": "text"
      },
      "source": [
        "<a href=\"https://colab.research.google.com/github/bclee232/DLwP/blob/master/11_1Dconv.ipynb\" target=\"_parent\"><img src=\"https://colab.research.google.com/assets/colab-badge.svg\" alt=\"Open In Colab\"/></a>"
      ]
    },
    {
      "cell_type": "code",
      "metadata": {
        "id": "RISTlM4buBY9",
        "colab_type": "code",
        "colab": {
          "base_uri": "https://localhost:8080/",
          "height": 85
        },
        "outputId": "026dabc1-d2ff-4b91-df02-acd70849c5db"
      },
      "source": [
        "# 1D conv layer for IMDB\n",
        "from keras.datasets import imdb\n",
        "from keras.preprocessing.sequence import pad_sequences\n",
        "\n",
        "(train_data, train_targets), (test_data, test_targets) = imdb.load_data(\n",
        "    num_words=10000\n",
        ")\n",
        "\n",
        "x_train = pad_sequences(train_data, maxlen=500)\n",
        "x_test = pad_sequences(train_data, maxlen=500)\n",
        "\n",
        "print(len(train_data), x_train.shape)"
      ],
      "execution_count": 1,
      "outputs": [
        {
          "output_type": "stream",
          "text": [
            "Using TensorFlow backend.\n"
          ],
          "name": "stderr"
        },
        {
          "output_type": "stream",
          "text": [
            "Downloading data from https://s3.amazonaws.com/text-datasets/imdb.npz\n",
            "17465344/17464789 [==============================] - 0s 0us/step\n",
            "25000 (25000, 500)\n"
          ],
          "name": "stdout"
        }
      ]
    },
    {
      "cell_type": "code",
      "metadata": {
        "id": "v_qEbleiu541",
        "colab_type": "code",
        "colab": {
          "base_uri": "https://localhost:8080/",
          "height": 190
        },
        "outputId": "5ad83ab0-0a5e-4adb-aecf-53f4d8adf6e4"
      },
      "source": [
        "from keras.models import Sequential\n",
        "from keras.layers import Embedding, Conv1D, MaxPooling1D, GlobalMaxPooling1D, Dense\n",
        "from keras.optimizers import RMSprop\n",
        "\n",
        "model = Sequential()\n",
        "model.add(Embedding(10000, 128, input_length=500))\n",
        "model.add(Conv1D(32, 7, activation='relu'))\n",
        "model.add(MaxPooling1D(5))\n",
        "model.add(Conv1D(32, 7, activation='relu'))\n",
        "model.add(GlobalMaxPooling1D())\n",
        "model.add(Dense(1))\n",
        "model.compile(optimizer=RMSprop(lr=1e-4), loss='binary_crossentropy',\n",
        "              metrics=['acc'])\n",
        "hist = model.fit(x_train, train_targets, epochs=3, batch_size=512,\n",
        "                 validation_split=0.2)\n",
        "# even though it's meant to be fast, it is pretty slow"
      ],
      "execution_count": 6,
      "outputs": [
        {
          "output_type": "stream",
          "text": [
            "/usr/local/lib/python3.6/dist-packages/tensorflow/python/framework/indexed_slices.py:434: UserWarning: Converting sparse IndexedSlices to a dense Tensor of unknown shape. This may consume a large amount of memory.\n",
            "  \"Converting sparse IndexedSlices to a dense Tensor of unknown shape. \"\n"
          ],
          "name": "stderr"
        },
        {
          "output_type": "stream",
          "text": [
            "Train on 20000 samples, validate on 5000 samples\n",
            "Epoch 1/3\n",
            "20000/20000 [==============================] - 68s 3ms/step - loss: 0.8119 - acc: 0.4987 - val_loss: 0.6931 - val_acc: 0.5222\n",
            "Epoch 2/3\n",
            "20000/20000 [==============================] - 68s 3ms/step - loss: 0.6890 - acc: 0.5567 - val_loss: 0.6877 - val_acc: 0.5414\n",
            "Epoch 3/3\n",
            "20000/20000 [==============================] - 68s 3ms/step - loss: 0.6762 - acc: 0.6362 - val_loss: 0.6805 - val_acc: 0.5952\n"
          ],
          "name": "stdout"
        }
      ]
    },
    {
      "cell_type": "code",
      "metadata": {
        "id": "C4z3mvRTxVic",
        "colab_type": "code",
        "colab": {}
      },
      "source": [
        "import os\n",
        "import numpy as np\n",
        "\n",
        "fname = '/content/drive/My Drive/weather_data.txt'\n",
        "f = open(fname)\n",
        "data = f.read()\n",
        "f.close()\n",
        "\n",
        "lines = data.split('\\n')\n",
        "header = lines[0].split(',')\n",
        "lines = lines[1:]\n",
        "\n",
        "float_data = np.zeros((len(lines), len(header) - 1))\n",
        "for i, line in enumerate(lines):\n",
        "    values = [float(x) for x in line.split(',')[1:]]\n",
        "    float_data[i, :] = values\n",
        "    \n",
        "mean = float_data[:200000].mean(axis=0)\n",
        "float_data -= mean\n",
        "std = float_data[:200000].std(axis=0)\n",
        "float_data /= std\n",
        "\n",
        "def generator(data, lookback, delay, min_index, max_index,\n",
        "              shuffle=False, batch_size=128, step=6):\n",
        "    if max_index is None:\n",
        "        max_index = len(data) - delay - 1\n",
        "    i = min_index + lookback\n",
        "    while 1:\n",
        "        if shuffle:\n",
        "            rows = np.random.randint(\n",
        "                min_index + lookback, max_index, size=batch_size)\n",
        "        else:\n",
        "            if i + batch_size >= max_index:\n",
        "                i = min_index + lookback\n",
        "            rows = np.arange(i, min(i + batch_size, max_index))\n",
        "            i += len(rows)\n",
        "\n",
        "        samples = np.zeros((len(rows),\n",
        "                           lookback // step,\n",
        "                           data.shape[-1]))\n",
        "        targets = np.zeros((len(rows),))\n",
        "        for j, row in enumerate(rows):\n",
        "            indices = range(rows[j] - lookback, rows[j], step)\n",
        "            samples[j] = data[indices]\n",
        "            targets[j] = data[rows[j] + delay][1]\n",
        "        yield samples, targets\n",
        "        \n",
        "lookback = 720\n",
        "step = 6\n",
        "delay = 144\n",
        "batch_size = 128\n",
        "\n",
        "train_gen = generator(float_data,\n",
        "                      lookback=lookback,\n",
        "                      delay=delay,\n",
        "                      min_index=0,\n",
        "                      max_index=200000,\n",
        "                      shuffle=True,\n",
        "                      step=step, \n",
        "                      batch_size=batch_size)\n",
        "val_gen = generator(float_data,\n",
        "                    lookback=lookback,\n",
        "                    delay=delay,\n",
        "                    min_index=200001,\n",
        "                    max_index=300000,\n",
        "                    step=step,\n",
        "                    batch_size=batch_size)\n",
        "test_gen = generator(float_data,\n",
        "                     lookback=lookback,\n",
        "                     delay=delay,\n",
        "                     min_index=300001,\n",
        "                     max_index=None,\n",
        "                     step=step,\n",
        "                     batch_size=batch_size)\n",
        "\n",
        "# This is how many steps to draw from `val_gen`\n",
        "# in order to see the whole validation set:\n",
        "val_steps = (300000 - 200001 - lookback) // batch_size\n",
        "\n",
        "# This is how many steps to draw from `test_gen`\n",
        "# in order to see the whole test set:\n",
        "test_steps = (len(float_data) - 300001 - lookback) // batch_size"
      ],
      "execution_count": 8,
      "outputs": []
    },
    {
      "cell_type": "code",
      "metadata": {
        "id": "Y9n8Wz19xyhQ",
        "colab_type": "code",
        "colab": {
          "base_uri": "https://localhost:8080/",
          "height": 697
        },
        "outputId": "a9b9c887-131f-40f3-d203-2b2c9dc13e4b"
      },
      "source": [
        "# 1D convnet\n",
        "model2 = Sequential()\n",
        "model2.add(Conv1D(32, 5, activation='relu', \n",
        "                  input_shape=(None, float_data.shape[-1])))\n",
        "model2.add(MaxPooling1D(3))\n",
        "model2.add(Conv1D(32, 5, activation='relu'))\n",
        "model2.add(MaxPooling1D(3))\n",
        "model2.add(Conv1D(32, 5, activation='relu'))\n",
        "model2.add(GlobalMaxPooling1D())\n",
        "model2.add(Dense(1))\n",
        "\n",
        "model2.compile(optimizer=RMSprop(), loss='mae')\n",
        "history = model2.fit_generator(train_gen,\n",
        "                              steps_per_epoch=500,\n",
        "                              epochs=20,\n",
        "                              validation_data=val_gen,\n",
        "                              validation_steps=val_steps)\n",
        "\n",
        "# so this is pretty fast considering more steps per epoch\n",
        "# why is the val loss so low but training loss is not?"
      ],
      "execution_count": 10,
      "outputs": [
        {
          "output_type": "stream",
          "text": [
            "Epoch 1/20\n",
            "500/500 [==============================] - 24s 48ms/step - loss: 0.3907 - val_loss: 0.1751\n",
            "Epoch 2/20\n",
            "500/500 [==============================] - 23s 47ms/step - loss: 0.3252 - val_loss: 0.1665\n",
            "Epoch 3/20\n",
            "500/500 [==============================] - 23s 47ms/step - loss: 0.2948 - val_loss: 0.3693\n",
            "Epoch 4/20\n",
            "500/500 [==============================] - 23s 46ms/step - loss: 0.2758 - val_loss: 0.1870\n",
            "Epoch 5/20\n",
            "500/500 [==============================] - 23s 47ms/step - loss: 0.2637 - val_loss: 0.2283\n",
            "Epoch 6/20\n",
            "500/500 [==============================] - 23s 47ms/step - loss: 0.2544 - val_loss: 0.2418\n",
            "Epoch 7/20\n",
            "500/500 [==============================] - 24s 47ms/step - loss: 0.2453 - val_loss: 0.2378\n",
            "Epoch 8/20\n",
            "500/500 [==============================] - 24s 47ms/step - loss: 0.2397 - val_loss: 0.2920\n",
            "Epoch 9/20\n",
            "500/500 [==============================] - 23s 47ms/step - loss: 0.2348 - val_loss: 0.2421\n",
            "Epoch 10/20\n",
            "500/500 [==============================] - 23s 47ms/step - loss: 0.2273 - val_loss: 0.2687\n",
            "Epoch 11/20\n",
            "500/500 [==============================] - 24s 47ms/step - loss: 0.2239 - val_loss: 0.3082\n",
            "Epoch 12/20\n",
            "500/500 [==============================] - 24s 47ms/step - loss: 0.2194 - val_loss: 0.2637\n",
            "Epoch 13/20\n",
            "500/500 [==============================] - 24s 48ms/step - loss: 0.2138 - val_loss: 0.2415\n",
            "Epoch 14/20\n",
            "500/500 [==============================] - 25s 50ms/step - loss: 0.2132 - val_loss: 0.3012\n",
            "Epoch 15/20\n",
            "500/500 [==============================] - 23s 46ms/step - loss: 0.2083 - val_loss: 0.2985\n",
            "Epoch 16/20\n",
            "500/500 [==============================] - 23s 46ms/step - loss: 0.2065 - val_loss: 0.2363\n",
            "Epoch 17/20\n",
            "500/500 [==============================] - 23s 47ms/step - loss: 0.2028 - val_loss: 0.2496\n",
            "Epoch 18/20\n",
            "500/500 [==============================] - 23s 47ms/step - loss: 0.2010 - val_loss: 0.2534\n",
            "Epoch 19/20\n",
            "500/500 [==============================] - 23s 47ms/step - loss: 0.1989 - val_loss: 0.2780\n",
            "Epoch 20/20\n",
            "500/500 [==============================] - 23s 47ms/step - loss: 0.1967 - val_loss: 0.2570\n"
          ],
          "name": "stdout"
        }
      ]
    },
    {
      "cell_type": "code",
      "metadata": {
        "id": "ZzKGv_gQ0CKw",
        "colab_type": "code",
        "colab": {
          "base_uri": "https://localhost:8080/",
          "height": 281
        },
        "outputId": "4c0b41c6-12dd-482e-c1d5-07fe05d668e0"
      },
      "source": [
        "import matplotlib.pyplot as plt\n",
        "\n",
        "loss = history.history['loss']\n",
        "val_loss = history.history['val_loss']\n",
        "\n",
        "epochs = range(len(loss))\n",
        "\n",
        "plt.figure()\n",
        "\n",
        "plt.plot(epochs, loss, 'bo', label='Training loss')\n",
        "plt.plot(epochs, val_loss, 'b', label='Validation loss')\n",
        "plt.title('Training and validation loss')\n",
        "plt.legend()\n",
        "\n",
        "plt.show()\n",
        "# what is happening with my graph..."
      ],
      "execution_count": 11,
      "outputs": [
        {
          "output_type": "display_data",
          "data": {
            "image/png": "[encoded data removed]",
            "text/plain": [
              "<Figure size 432x288 with 1 Axes>"
            ]
          },
          "metadata": {
            "tags": [],
            "needs_background": "light"
          }
        }
      ]
    },
    {
      "cell_type": "code",
      "metadata": {
        "id": "sVoVE34oy-BF",
        "colab_type": "code",
        "colab": {
          "base_uri": "https://localhost:8080/",
          "height": 357
        },
        "outputId": "abd63ec1-1850-4815-a59c-3ba2dd6745a2"
      },
      "source": [
        "from keras.layers import GRU\n",
        "\n",
        "# 1D & recurrent layers\n",
        "model3 = Sequential()\n",
        "model3.add(Conv1D(32, 5, activation='relu', \n",
        "                  input_shape=(None, float_data.shape[-1])))\n",
        "model3.add(MaxPooling1D(3))\n",
        "model3.add(Conv1D(32, 5, activation='relu'))\n",
        "model3.add(GRU(32, dropout=0.1, recurrent_dropout=0.5))\n",
        "model3.add(Dense(1))\n",
        "\n",
        "model3.compile(optimizer=RMSprop(), loss='mae')\n",
        "history3 = model3.fit_generator(train_gen,\n",
        "                              steps_per_epoch=100,\n",
        "                              epochs=10,\n",
        "                              validation_data=val_gen,\n",
        "                              validation_steps=val_steps)\n",
        "# ok why is my training loss insane in the initial 2 epochs?\n",
        "# hmmm performs pretty bad..."
      ],
      "execution_count": 13,
      "outputs": [
        {
          "output_type": "stream",
          "text": [
            "Epoch 1/10\n",
            "100/100 [==============================] - 20s 198ms/step - loss: 2518493.6687 - val_loss: 0.5894\n",
            "Epoch 2/10\n",
            "100/100 [==============================] - 19s 191ms/step - loss: 1141.7646 - val_loss: 0.5446\n",
            "Epoch 3/10\n",
            "100/100 [==============================] - 19s 189ms/step - loss: 5.2366 - val_loss: 0.5217\n",
            "Epoch 4/10\n",
            "100/100 [==============================] - 19s 190ms/step - loss: 0.8701 - val_loss: 0.5175\n",
            "Epoch 5/10\n",
            "100/100 [==============================] - 19s 189ms/step - loss: 1.5729 - val_loss: 0.5304\n",
            "Epoch 6/10\n",
            "100/100 [==============================] - 19s 188ms/step - loss: 2.9566 - val_loss: 0.5312\n",
            "Epoch 7/10\n",
            "100/100 [==============================] - 19s 188ms/step - loss: 7.9248 - val_loss: 0.5663\n",
            "Epoch 8/10\n",
            "100/100 [==============================] - 19s 189ms/step - loss: 45.6201 - val_loss: 0.5920\n",
            "Epoch 9/10\n",
            "100/100 [==============================] - 19s 188ms/step - loss: 9.2162 - val_loss: 0.5835\n",
            "Epoch 10/10\n",
            "100/100 [==============================] - 19s 190ms/step - loss: 10.5698 - val_loss: 0.5596\n"
          ],
          "name": "stdout"
        }
      ]
    }
  ]
}