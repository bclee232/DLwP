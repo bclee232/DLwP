{
  "nbformat": 4,
  "nbformat_minor": 0,
  "metadata": {
    "colab": {
      "name": "mnist.ipynb",
      "provenance": [],
      "authorship_tag": "ABX9TyPcIiu4+B9qeXJvounShG78",
      "include_colab_link": true
    },
    "kernelspec": {
      "name": "python3",
      "display_name": "Python 3"
    }
  },
  "cells": [
    {
      "cell_type": "markdown",
      "metadata": {
        "id": "view-in-github",
        "colab_type": "text"
      },
      "source": [
        "<a href=\"https://colab.research.google.com/github/bclee232/DLwP/blob/master/mnist.ipynb\" target=\"_parent\"><img src=\"https://colab.research.google.com/assets/colab-badge.svg\" alt=\"Open In Colab\"/></a>"
      ]
    },
    {
      "cell_type": "code",
      "metadata": {
        "id": "p8FOPBBI4Ses",
        "colab_type": "code",
        "colab": {}
      },
      "source": [
        "# loading the data\n",
        "from keras.datasets import mnist\n",
        "(train_images, train_labels), (test_images, test_labels) = mnist.load_data()"
      ],
      "execution_count": 9,
      "outputs": []
    },
    {
      "cell_type": "code",
      "metadata": {
        "id": "BG9Zhpvb4k4W",
        "colab_type": "code",
        "colab": {}
      },
      "source": [
        "# network architecture\n",
        "from keras import models\n",
        "from keras import layers\n",
        "\n",
        "network = models.Sequential()\n",
        "network.add(layers.Dense(512, activation='relu', input_shape=(28*28,)))\n",
        "network.add(layers.Dense(10, activation='softmax'))"
      ],
      "execution_count": 10,
      "outputs": []
    },
    {
      "cell_type": "code",
      "metadata": {
        "id": "Vtu0iy8XPZL_",
        "colab_type": "code",
        "colab": {}
      },
      "source": [
        "\"\"\" preparing the data \"\"\"\n",
        "\n",
        "# compilation step - add optimiser, loss function, metrics\n",
        "network.compile(optimizer='rmsprop', loss='categorical_crossentropy', metrics=['accuracy'])\n",
        "\n",
        "# reshape and scale\n",
        "train_images = train_images.reshape((60000, 28 * 28))\n",
        "train_images = train_images.astype('float32') / 255\n",
        "test_images = test_images.reshape((10000, 28 * 28))\n",
        "test_images = test_images.astype('float32') / 255\n",
        "\n",
        "# categorically encode the labels\n",
        "from keras.utils import to_categorical\n",
        "train_labels = to_categorical(train_labels)\n",
        "test_labels = to_categorical(test_labels)"
      ],
      "execution_count": 11,
      "outputs": []
    },
    {
      "cell_type": "code",
      "metadata": {
        "id": "g-kCzhE4Q3y_",
        "colab_type": "code",
        "colab": {
          "base_uri": "https://localhost:8080/",
          "height": 204
        },
        "outputId": "2bb651f2-25f7-4e83-f238-aad7d9a704b5"
      },
      "source": [
        "# training phase\n",
        "network.fit(train_images, train_labels, epochs=5, batch_size=128)"
      ],
      "execution_count": 16,
      "outputs": [
        {
          "output_type": "stream",
          "text": [
            "Epoch 1/5\n",
            "60000/60000 [==============================] - 4s 73us/step - loss: 0.0081 - accuracy: 0.9977\n",
            "Epoch 2/5\n",
            "60000/60000 [==============================] - 4s 74us/step - loss: 0.0064 - accuracy: 0.9981\n",
            "Epoch 3/5\n",
            "60000/60000 [==============================] - 4s 74us/step - loss: 0.0050 - accuracy: 0.9986\n",
            "Epoch 4/5\n",
            "60000/60000 [==============================] - 5s 78us/step - loss: 0.0039 - accuracy: 0.9990\n",
            "Epoch 5/5\n",
            "60000/60000 [==============================] - 4s 75us/step - loss: 0.0030 - accuracy: 0.9992\n"
          ],
          "name": "stdout"
        },
        {
          "output_type": "execute_result",
          "data": {
            "text/plain": [
              "<keras.callbacks.callbacks.History at 0x7f4eeb8ffc50>"
            ]
          },
          "metadata": {
            "tags": []
          },
          "execution_count": 16
        }
      ]
    },
    {
      "cell_type": "code",
      "metadata": {
        "id": "0KAlrTRKRhj1",
        "colab_type": "code",
        "colab": {
          "base_uri": "https://localhost:8080/",
          "height": 51
        },
        "outputId": "b9af0510-ef78-4b1b-a618-6304f6a070d4"
      },
      "source": [
        "# test phase\n",
        "test_loss, test_acc = network.evaluate(test_images, test_labels)\n",
        "print(test_loss, test_acc)"
      ],
      "execution_count": 17,
      "outputs": [
        {
          "output_type": "stream",
          "text": [
            "10000/10000 [==============================] - 0s 47us/step\n",
            "0.07891524985679119 0.9828000068664551\n"
          ],
          "name": "stdout"
        }
      ]
    }
  ]
}