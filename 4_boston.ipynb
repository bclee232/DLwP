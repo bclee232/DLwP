{
  "nbformat": 4,
  "nbformat_minor": 0,
  "metadata": {
    "colab": {
      "name": "4_boston.ipynb",
      "provenance": [],
      "authorship_tag": "ABX9TyODADUsuguSXHDBQceJfrWI",
      "include_colab_link": true
    },
    "kernelspec": {
      "name": "python3",
      "display_name": "Python 3"
    }
  },
  "cells": [
    {
      "cell_type": "markdown",
      "metadata": {
        "id": "view-in-github",
        "colab_type": "text"
      },
      "source": [
        "<a href=\"https://colab.research.google.com/github/bclee232/DLwP/blob/master/4_boston.ipynb\" target=\"_parent\"><img src=\"https://colab.research.google.com/assets/colab-badge.svg\" alt=\"Open In Colab\"/></a>"
      ]
    },
    {
      "cell_type": "code",
      "metadata": {
        "id": "9kqH_OdUL6eq",
        "colab_type": "code",
        "colab": {
          "base_uri": "https://localhost:8080/",
          "height": 34
        },
        "outputId": "be997a77-525a-4118-a00e-764041ffae7c"
      },
      "source": [
        "from keras.datasets import boston_housing\n",
        "\n",
        "(train_data, train_targets), (test_data, test_targets) = boston_housing.load_data()\n",
        "print(train_data.shape, test_data.shape)\n",
        "# 404 training and 102 test\n",
        "# 13 features"
      ],
      "execution_count": 5,
      "outputs": [
        {
          "output_type": "stream",
          "text": [
            "(404, 13) (102, 13)\n"
          ],
          "name": "stdout"
        }
      ]
    },
    {
      "cell_type": "code",
      "metadata": {
        "id": "B_dgKNlMMSkP",
        "colab_type": "code",
        "colab": {}
      },
      "source": [
        "# feature-wise normalisation (features have different scale)\n",
        "mean = train_data.mean(axis=0) # axis=0 for each feature\n",
        "train_data -= mean\n",
        "std = train_data.std(axis=0)\n",
        "train_data /= std\n",
        "test_data -= mean\n",
        "test_data /= std"
      ],
      "execution_count": 2,
      "outputs": []
    },
    {
      "cell_type": "code",
      "metadata": {
        "id": "nprB7ZRINHcy",
        "colab_type": "code",
        "colab": {}
      },
      "source": [
        "# build the network\n",
        "from keras.models import Sequential\n",
        "from keras.layers import Dense\n",
        "\n",
        "def build_model():\n",
        "  model = Sequential()\n",
        "  model.add(Dense(64, activation='relu', \n",
        "                  input_shape=(train_data.shape[1],))) # 13 for shape\n",
        "  model.add(Dense(64, activation='relu'))\n",
        "  model.add(Dense(1)) # 1 output of median price\n",
        "  model.compile(optimizer='rmsprop', loss='mse', metrics=['mae'])\n",
        "  return model"
      ],
      "execution_count": 9,
      "outputs": []
    },
    {
      "cell_type": "code",
      "metadata": {
        "id": "TRxydji0PfJx",
        "colab_type": "code",
        "colab": {
          "base_uri": "https://localhost:8080/",
          "height": 85
        },
        "outputId": "c216886d-2c93-40f5-beed-a91ddf4374cc"
      },
      "source": [
        "# K fold validation\n",
        "import numpy as np\n",
        "\n",
        "k = 4\n",
        "n_samples = len(train_data) // k\n",
        "n_epochs = 50 # should be 500 for determining optimal epoch\n",
        "list_scores = []\n",
        "list_mae_hist = []\n",
        "\n",
        "for i in range(k):\n",
        "  print('processing fold:', i)\n",
        "  # prepares a partition for validation data\n",
        "  x_val = train_data[i * n_samples: (i+1) * n_samples]\n",
        "  y_val = train_targets[i * n_samples: (i+1) * n_samples]\n",
        "\n",
        "  # prepares other partitions, where each is training data\n",
        "  # concatenate data before and after validation partition\n",
        "  part_x_train = np.concatenate(\n",
        "      [train_data[:i * n_samples], train_data[(i+1) * n_samples:]], axis=0\n",
        "  )\n",
        "  part_y_train = np.concatenate(\n",
        "      [train_targets[:i * n_samples], train_targets[(i+1) * n_samples:]], axis=0\n",
        "  )\n",
        "\n",
        "  model = build_model()\n",
        "  hist = model.fit(part_x_train, part_y_train, batch_size=1, \n",
        "                   epochs=n_epochs, validation_data=(x_val, y_val),\n",
        "                   verbose=0) # verbose is silent mode\n",
        "  mae_hist = hist.history['val_mae']\n",
        "  list_mae_hist.append(mae_hist)\n",
        "  # val_mse, val_mae = model.evaluate(x_val, y_val, verbose=0)\n",
        "  # list_scores.append(val_mae)\n",
        "\n",
        "# print('avg', np.mean(list_scores))\n",
        "avg_mae_hist = [np.mean([x[i] for x in list_mae_hist]) for i in range(n_epochs)]"
      ],
      "execution_count": 20,
      "outputs": [
        {
          "output_type": "stream",
          "text": [
            "processing fold: 0\n",
            "processing fold: 1\n",
            "processing fold: 2\n",
            "processing fold: 3\n"
          ],
          "name": "stdout"
        }
      ]
    },
    {
      "cell_type": "code",
      "metadata": {
        "id": "6FgZyh2lT5qj",
        "colab_type": "code",
        "colab": {
          "base_uri": "https://localhost:8080/",
          "height": 279
        },
        "outputId": "c8c05144-8240-474d-889b-880a4ed78651"
      },
      "source": [
        "import matplotlib.pyplot as plt\n",
        "\n",
        "# smooths the curve for better reading\n",
        "def smooth_curve(points, factor=0.9):\n",
        "  smoothed_points = []\n",
        "  for point in points:\n",
        "    if smoothed_points:\n",
        "      previous = smoothed_points[-1]\n",
        "      smoothed_points.append(previous * factor + point * (1 - factor))\n",
        "    else:\n",
        "      smoothed_points.append(point)\n",
        "  return smoothed_points\n",
        "smooth_mae_hist = smooth_curve(avg_mae_hist[10:])\n",
        "\n",
        "epochs = range(1, len(smooth_mae_hist) + 1)\n",
        "plt.plot(epochs, smooth_mae_hist)\n",
        "plt.xlabel('epochs')\n",
        "plt.ylabel('validation mae avg')\n",
        "plt.show() # 500 would show that 80 is optimal"
      ],
      "execution_count": 22,
      "outputs": [
        {
          "output_type": "display_data",
          "data": {
            "image/png": "[encoded data removed]",
            "text/plain": [
              "<Figure size 432x288 with 1 Axes>"
            ]
          },
          "metadata": {
            "tags": [],
            "needs_background": "light"
          }
        }
      ]
    },
    {
      "cell_type": "code",
      "metadata": {
        "id": "3ysCYABCX2qN",
        "colab_type": "code",
        "colab": {
          "base_uri": "https://localhost:8080/",
          "height": 51
        },
        "outputId": "ea0e82ec-fed8-4770-af8e-e5a8f39f7cc3"
      },
      "source": [
        "new = build_model()\n",
        "new.fit(train_data, train_targets, batch_size=16, epochs=80, verbose=0)\n",
        "test_mse, test_mae = new.evaluate(test_data, test_targets)\n",
        "print(test_mae) # off by $4500, book provides $2500"
      ],
      "execution_count": 28,
      "outputs": [
        {
          "output_type": "stream",
          "text": [
            "102/102 [==============================] - 0s 178us/step\n",
            "4.541990280151367\n"
          ],
          "name": "stdout"
        }
      ]
    }
  ]
}