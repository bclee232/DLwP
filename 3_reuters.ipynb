{
  "nbformat": 4,
  "nbformat_minor": 0,
  "metadata": {
    "colab": {
      "name": "3_reuters.ipynb",
      "provenance": [],
      "authorship_tag": "ABX9TyOFwhOgErb7JPJl3XISAY30",
      "include_colab_link": true
    },
    "kernelspec": {
      "name": "python3",
      "display_name": "Python 3"
    }
  },
  "cells": [
    {
      "cell_type": "markdown",
      "metadata": {
        "id": "view-in-github",
        "colab_type": "text"
      },
      "source": [
        "<a href=\"https://colab.research.google.com/github/bclee232/DLwP/blob/master/3_reuters.ipynb\" target=\"_parent\"><img src=\"https://colab.research.google.com/assets/colab-badge.svg\" alt=\"Open In Colab\"/></a>"
      ]
    },
    {
      "cell_type": "markdown",
      "metadata": {
        "id": "Jtr0J8rL1K-g",
        "colab_type": "text"
      },
      "source": [
        "**Single Label multiclass classification**"
      ]
    },
    {
      "cell_type": "code",
      "metadata": {
        "id": "J2x31EgGrMZO",
        "colab_type": "code",
        "colab": {
          "base_uri": "https://localhost:8080/",
          "height": 105
        },
        "outputId": "a7cb29a3-0c44-40a3-e09a-178a17e23408"
      },
      "source": [
        "from keras.datasets import reuters\n",
        "\n",
        "(train_data, train_labels), (test_data, test_labels) = reuters.load_data(num_words=10000)\n",
        "print(len(train_data), len(test_data))\n",
        "print(len(train_data[0]))\n",
        "print(\"train data\", train_data[0]) # encoded newswire\n",
        "print(\"train label\", train_labels[0]) # topic"
      ],
      "execution_count": 12,
      "outputs": [
        {
          "output_type": "stream",
          "text": [
            "8982 2246\n",
            "87\n",
            "train data [1, 2, 2, 8, 43, 10, 447, 5, 25, 207, 270, 5, 3095, 111, 16, 369, 186, 90, 67, 7, 89, 5, 19, 102, 6, 19, 124, 15, 90, 67, 84, 22, 482, 26, 7, 48, 4, 49, 8, 864, 39, 209, 154, 6, 151, 6, 83, 11, 15, 22, 155, 11, 15, 7, 48, 9, 4579, 1005, 504, 6, 258, 6, 272, 11, 15, 22, 134, 44, 11, 15, 16, 8, 197, 1245, 90, 67, 52, 29, 209, 30, 32, 132, 6, 109, 15, 17, 12]\n",
            "train label 3\n"
          ],
          "name": "stdout"
        }
      ]
    },
    {
      "cell_type": "code",
      "metadata": {
        "id": "ljp0F-uIsKTd",
        "colab_type": "code",
        "colab": {
          "base_uri": "https://localhost:8080/",
          "height": 54
        },
        "outputId": "a0a4ef8e-2787-460b-ce08-94c25e2b759b"
      },
      "source": [
        "word_index = reuters.get_word_index()\n",
        "reverse_word_index = dict([(value, key) for (key, value) in word_index.items()])\n",
        "decoded_newswire = ' '.join([reverse_word_index.get(i - 3, '?') for i in train_data[0]])\n",
        "print(decoded_newswire) # offset of 3"
      ],
      "execution_count": 5,
      "outputs": [
        {
          "output_type": "stream",
          "text": [
            "? ? ? said as a result of its december acquisition of space co it expects earnings per share in 1987 of 1 15 to 1 30 dlrs per share up from 70 cts in 1986 the company said pretax net should rise to nine to 10 mln dlrs from six mln dlrs in 1986 and rental operation revenues to 19 to 22 mln dlrs from 12 5 mln dlrs it said cash flow per share this year should be 2 50 to three dlrs reuter 3\n"
          ],
          "name": "stdout"
        }
      ]
    },
    {
      "cell_type": "code",
      "metadata": {
        "id": "WMPRrt6wsird",
        "colab_type": "code",
        "colab": {}
      },
      "source": [
        "# vectorisation (convert from lists to tensors)\n",
        "# dim=10000 (10000 words from num_words)\n",
        "import numpy as np\n",
        "\n",
        "def vect_seq(seq, dim=10000):\n",
        "  res = np.zeros((len(seq), dim))\n",
        "  for i, s in enumerate(seq):\n",
        "    res[i, s] = 1 # row i, col s\n",
        "  return res\n",
        "\n",
        "x_train = vect_seq(train_data)\n",
        "x_test = vect_seq(test_data)"
      ],
      "execution_count": 10,
      "outputs": []
    },
    {
      "cell_type": "code",
      "metadata": {
        "id": "prb0L3dStoV8",
        "colab_type": "code",
        "colab": {}
      },
      "source": [
        "from keras.utils.np_utils import to_categorical # utils.np_utils vs utils?\n",
        "\n",
        "y_train = vect_seq(train_labels, 46) # one-hot encoding\n",
        "y_test = to_categorical(test_labels)"
      ],
      "execution_count": 17,
      "outputs": []
    },
    {
      "cell_type": "code",
      "metadata": {
        "id": "FtWXE_arvwQP",
        "colab_type": "code",
        "colab": {}
      },
      "source": [
        "from keras.models import Sequential\n",
        "from keras.layers import Dense\n",
        "# build model and compile\n",
        "model = Sequential()\n",
        "model.add(Dense(64, activation='relu', input_shape=(10000,)))\n",
        "model.add(Dense(64, activation='relu'))\n",
        "model.add(Dense(46, activation='softmax'))\n",
        "\n",
        "model.compile(optimizer='rmsprop', loss='categorical_crossentropy', metrics=['acc'])"
      ],
      "execution_count": 18,
      "outputs": []
    },
    {
      "cell_type": "code",
      "metadata": {
        "id": "d3P6Zaahwuk_",
        "colab_type": "code",
        "colab": {}
      },
      "source": [
        "# validation - 9000 training so 1:8 = val:training\n",
        "x_val = x_train[:1000]\n",
        "y_val = y_train[:1000]\n",
        "\n",
        "part_x_train = x_train[1000:]\n",
        "part_y_train = y_train[1000:]"
      ],
      "execution_count": 19,
      "outputs": []
    },
    {
      "cell_type": "code",
      "metadata": {
        "id": "xnnTtb_PxNbe",
        "colab_type": "code",
        "colab": {
          "base_uri": "https://localhost:8080/",
          "height": 714
        },
        "outputId": "4014e2cf-b8c4-4f07-981f-5a0e94f69f8e"
      },
      "source": [
        "hist = model.fit(part_x_train, part_y_train, batch_size=512, epochs=20, validation_data=(x_val,y_val))\n",
        "# overfit after 8? textbook says 9\n",
        "# hard to see with numbers because diff. for loss and acc"
      ],
      "execution_count": 20,
      "outputs": [
        {
          "output_type": "stream",
          "text": [
            "Train on 7982 samples, validate on 1000 samples\n",
            "Epoch 1/20\n",
            "7982/7982 [==============================] - 1s 159us/step - loss: 2.5396 - acc: 0.5588 - val_loss: 1.6872 - val_acc: 0.6630\n",
            "Epoch 2/20\n",
            "7982/7982 [==============================] - 1s 117us/step - loss: 1.3690 - acc: 0.7192 - val_loss: 1.2729 - val_acc: 0.7350\n",
            "Epoch 3/20\n",
            "7982/7982 [==============================] - 1s 118us/step - loss: 1.0244 - acc: 0.7838 - val_loss: 1.1183 - val_acc: 0.7540\n",
            "Epoch 4/20\n",
            "7982/7982 [==============================] - 1s 118us/step - loss: 0.8165 - acc: 0.8250 - val_loss: 1.0597 - val_acc: 0.7800\n",
            "Epoch 5/20\n",
            "7982/7982 [==============================] - 1s 118us/step - loss: 0.6561 - acc: 0.8611 - val_loss: 0.9868 - val_acc: 0.8010\n",
            "Epoch 6/20\n",
            "7982/7982 [==============================] - 1s 117us/step - loss: 0.5267 - acc: 0.8895 - val_loss: 0.9566 - val_acc: 0.8030\n",
            "Epoch 7/20\n",
            "7982/7982 [==============================] - 1s 117us/step - loss: 0.4283 - acc: 0.9095 - val_loss: 0.9418 - val_acc: 0.8050\n",
            "Epoch 8/20\n",
            "7982/7982 [==============================] - 1s 118us/step - loss: 0.3482 - acc: 0.9257 - val_loss: 0.9215 - val_acc: 0.8090\n",
            "Epoch 9/20\n",
            "7982/7982 [==============================] - 1s 117us/step - loss: 0.2846 - acc: 0.9392 - val_loss: 0.9621 - val_acc: 0.7990\n",
            "Epoch 10/20\n",
            "7982/7982 [==============================] - 1s 114us/step - loss: 0.2450 - acc: 0.9435 - val_loss: 0.9343 - val_acc: 0.8120\n",
            "Epoch 11/20\n",
            "7982/7982 [==============================] - 1s 118us/step - loss: 0.2089 - acc: 0.9490 - val_loss: 0.9481 - val_acc: 0.8120\n",
            "Epoch 12/20\n",
            "7982/7982 [==============================] - 1s 121us/step - loss: 0.1824 - acc: 0.9538 - val_loss: 0.9628 - val_acc: 0.8120\n",
            "Epoch 13/20\n",
            "7982/7982 [==============================] - 1s 116us/step - loss: 0.1671 - acc: 0.9529 - val_loss: 1.0139 - val_acc: 0.8010\n",
            "Epoch 14/20\n",
            "7982/7982 [==============================] - 1s 117us/step - loss: 0.1514 - acc: 0.9554 - val_loss: 1.0102 - val_acc: 0.8160\n",
            "Epoch 15/20\n",
            "7982/7982 [==============================] - 1s 117us/step - loss: 0.1460 - acc: 0.9572 - val_loss: 1.0770 - val_acc: 0.8050\n",
            "Epoch 16/20\n",
            "7982/7982 [==============================] - 1s 118us/step - loss: 0.1331 - acc: 0.9563 - val_loss: 1.0990 - val_acc: 0.7850\n",
            "Epoch 17/20\n",
            "7982/7982 [==============================] - 1s 119us/step - loss: 0.1248 - acc: 0.9580 - val_loss: 1.0641 - val_acc: 0.8050\n",
            "Epoch 18/20\n",
            "7982/7982 [==============================] - 1s 116us/step - loss: 0.1211 - acc: 0.9568 - val_loss: 1.0709 - val_acc: 0.8010\n",
            "Epoch 19/20\n",
            "7982/7982 [==============================] - 1s 118us/step - loss: 0.1170 - acc: 0.9579 - val_loss: 1.0677 - val_acc: 0.8070\n",
            "Epoch 20/20\n",
            "7982/7982 [==============================] - 1s 118us/step - loss: 0.1152 - acc: 0.9573 - val_loss: 1.1092 - val_acc: 0.7990\n"
          ],
          "name": "stdout"
        }
      ]
    },
    {
      "cell_type": "code",
      "metadata": {
        "id": "-WnCyhEpxifr",
        "colab_type": "code",
        "colab": {
          "base_uri": "https://localhost:8080/",
          "height": 545
        },
        "outputId": "2336d865-1e7c-4ac5-bd02-c4e24dfd20c7"
      },
      "source": [
        "import matplotlib.pyplot as plt\n",
        "\n",
        "hist_dict = hist.history\n",
        "val_loss = hist_dict['val_loss']\n",
        "loss = hist_dict['loss']\n",
        "epochs = range(1, len(loss) + 1)\n",
        "plt.plot(epochs, loss, 'bo', label='train loss')\n",
        "plt.plot(epochs, val_loss, 'b', label='val train loss')\n",
        "plt.title('train and val loss')\n",
        "plt.show()\n",
        "val_acc = hist_dict['val_acc']\n",
        "acc = hist_dict['acc']\n",
        "plt.plot(epochs, val_acc, 'b', label='train acc')\n",
        "plt.plot(epochs, acc, 'bo', label='val train acc')\n",
        "plt.title('train and val acc')\n",
        "plt.show()"
      ],
      "execution_count": 24,
      "outputs": [
        {
          "output_type": "display_data",
          "data": {
            "image/png": "[encoded data removed]",
            "text/plain": [
              "<Figure size 432x288 with 1 Axes>"
            ]
          },
          "metadata": {
            "tags": [],
            "needs_background": "light"
          }
        },
        {
          "output_type": "display_data",
          "data": {
            "image/png": "[encoded data removed]",
            "text/plain": [
              "<Figure size 432x288 with 1 Axes>"
            ]
          },
          "metadata": {
            "tags": [],
            "needs_background": "light"
          }
        }
      ]
    },
    {
      "cell_type": "code",
      "metadata": {
        "id": "oVa4eTKj0GTA",
        "colab_type": "code",
        "colab": {
          "base_uri": "https://localhost:8080/",
          "height": 340
        },
        "outputId": "d9ba7411-6b3f-431c-ed3e-67bbcee43c71"
      },
      "source": [
        "new_model = Sequential()\n",
        "new_model.add(Dense(64, activation='relu', input_shape=(10000,)))\n",
        "new_model.add(Dense(64, activation='relu'))\n",
        "new_model.add(Dense(46, activation='softmax'))\n",
        "\n",
        "new_model.compile(optimizer='rmsprop', loss='categorical_crossentropy', metrics=['acc'])\n",
        "\n",
        "new_model.fit(x_train, y_train, batch_size=512, epochs=9)"
      ],
      "execution_count": 29,
      "outputs": [
        {
          "output_type": "stream",
          "text": [
            "Epoch 1/9\n",
            "8982/8982 [==============================] - 1s 117us/step - loss: 2.6495 - acc: 0.5286\n",
            "Epoch 2/9\n",
            "8982/8982 [==============================] - 1s 111us/step - loss: 1.3413 - acc: 0.7289\n",
            "Epoch 3/9\n",
            "8982/8982 [==============================] - 1s 113us/step - loss: 0.9836 - acc: 0.7937\n",
            "Epoch 4/9\n",
            "8982/8982 [==============================] - 1s 109us/step - loss: 0.7726 - acc: 0.8391\n",
            "Epoch 5/9\n",
            "8982/8982 [==============================] - 1s 109us/step - loss: 0.6110 - acc: 0.8735\n",
            "Epoch 6/9\n",
            "8982/8982 [==============================] - 1s 108us/step - loss: 0.4862 - acc: 0.9009\n",
            "Epoch 7/9\n",
            "8982/8982 [==============================] - 1s 109us/step - loss: 0.3954 - acc: 0.9173\n",
            "Epoch 8/9\n",
            "8982/8982 [==============================] - 1s 107us/step - loss: 0.3232 - acc: 0.9308\n",
            "Epoch 9/9\n",
            "8982/8982 [==============================] - 1s 109us/step - loss: 0.2706 - acc: 0.9403\n"
          ],
          "name": "stdout"
        },
        {
          "output_type": "execute_result",
          "data": {
            "text/plain": [
              "<keras.callbacks.callbacks.History at 0x7f6ce35c55c0>"
            ]
          },
          "metadata": {
            "tags": []
          },
          "execution_count": 29
        }
      ]
    },
    {
      "cell_type": "code",
      "metadata": {
        "id": "5tq2BR55z8_b",
        "colab_type": "code",
        "colab": {
          "base_uri": "https://localhost:8080/",
          "height": 68
        },
        "outputId": "5add4fd5-8d4e-4017-ef41-5f9b02569cfd"
      },
      "source": [
        "res = model.evaluate(x_test, y_test)\n",
        "res_new = new_model.evaluate(x_test, y_test)\n",
        "print(res, res_new) # 9 was better in terms of acc"
      ],
      "execution_count": 30,
      "outputs": [
        {
          "output_type": "stream",
          "text": [
            "2246/2246 [==============================] - 0s 92us/step\n",
            "2246/2246 [==============================] - 0s 101us/step\n",
            "[1.2573964667978397, 0.792965292930603] [0.9483689230038242, 0.800979495048523]\n"
          ],
          "name": "stdout"
        }
      ]
    },
    {
      "cell_type": "code",
      "metadata": {
        "id": "aJ5rsuD60bSt",
        "colab_type": "code",
        "colab": {
          "base_uri": "https://localhost:8080/",
          "height": 34
        },
        "outputId": "61de2438-7b33-4fe1-b88d-05c572871429"
      },
      "source": [
        "pred = new_model.predict(x_test)\n",
        "print(np.argmax(pred[0])) # prediction value for first entry"
      ],
      "execution_count": 31,
      "outputs": [
        {
          "output_type": "stream",
          "text": [
            "3\n"
          ],
          "name": "stdout"
        }
      ]
    }
  ]
}