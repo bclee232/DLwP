{
  "nbformat": 4,
  "nbformat_minor": 0,
  "metadata": {
    "colab": {
      "name": "9_rnn.ipynb",
      "provenance": [],
      "collapsed_sections": [],
      "authorship_tag": "ABX9TyNhU/jPRJkgtK/UyX0NH78f",
      "include_colab_link": true
    },
    "kernelspec": {
      "name": "python3",
      "display_name": "Python 3"
    }
  },
  "cells": [
    {
      "cell_type": "markdown",
      "metadata": {
        "id": "view-in-github",
        "colab_type": "text"
      },
      "source": [
        "<a href=\"https://colab.research.google.com/github/bclee232/DLwP/blob/master/9_rnn.ipynb\" target=\"_parent\"><img src=\"https://colab.research.google.com/assets/colab-badge.svg\" alt=\"Open In Colab\"/></a>"
      ]
    },
    {
      "cell_type": "code",
      "metadata": {
        "id": "T4yjmvn9di0p",
        "colab_type": "code",
        "colab": {}
      },
      "source": [
        "# pseudocode RNN\n",
        "def f(state_t, input_t):\n",
        "  # W and U are matrices and b is bias vector\n",
        "  return activation(dot(W, input_t) + dot(U, state_t) + b)\n",
        "\n",
        "state_t = 0 # state at time t\n",
        "for input_t in input_sequence:\n",
        "  output_t = f(state_t, input_t)\n",
        "  state_t = output_t # prev. output is state for next timestep\n"
      ],
      "execution_count": null,
      "outputs": []
    },
    {
      "cell_type": "code",
      "metadata": {
        "id": "JFXxd-BueQrD",
        "colab_type": "code",
        "colab": {
          "base_uri": "https://localhost:8080/",
          "height": 34
        },
        "outputId": "6f66e4cd-a23c-40c2-f449-888f55f8ac65"
      },
      "source": [
        "# naive implementation of RNN\n",
        "import numpy as np\n",
        "\n",
        "my_timesteps = 50 # for input seq\n",
        "my_input_features = 32 # dimensionality of inp. feature space\n",
        "my_output_features = 64\n",
        "\n",
        "my_inputs = np.random.random((my_timesteps, my_input_features))\n",
        "my_state_t = np.zeros((my_output_features,))\n",
        "\n",
        "my_W = np.random.random((my_output_features, my_input_features))\n",
        "my_U = np.random.random((my_output_features, my_output_features))\n",
        "my_b = np.random.random((my_output_features,))\n",
        "\n",
        "my_outputs = []\n",
        "for my_input_t in my_inputs:\n",
        "  my_output_t = np.tanh(np.dot(my_W, my_input_t) + \n",
        "                        np.dot(my_U, my_state_t) + \n",
        "                        my_b)\n",
        "  my_outputs.append(my_output_t)\n",
        "  my_state_t = my_output_t\n",
        "\n",
        "# 2D tensor of shape (timesteps, output_features)\n",
        "my_final_output_seq = np.concatenate(my_outputs, axis=0)\n",
        "print(my_final_output_seq)"
      ],
      "execution_count": 2,
      "outputs": [
        {
          "output_type": "stream",
          "text": [
            "[1.         0.99999989 1.         ... 1.         1.         1.        ]\n"
          ],
          "name": "stdout"
        }
      ]
    },
    {
      "cell_type": "code",
      "metadata": {
        "id": "Ew2UnXvUgu5h",
        "colab_type": "code",
        "colab": {
          "base_uri": "https://localhost:8080/",
          "height": 323
        },
        "outputId": "548a7ebf-5376-4492-812d-1172b8aceddd"
      },
      "source": [
        "# simple RNN layer in Keras\n",
        "from keras.models import Sequential\n",
        "from keras.layers import SimpleRNN, Embedding\n",
        "\n",
        "model = Sequential()\n",
        "model.add(Embedding(10000, 32))\n",
        "model.add(SimpleRNN(32, return_sequences=True)) # full state seq. returned\n",
        "model.add(SimpleRNN(32, return_sequences=True))\n",
        "model.add(SimpleRNN(32, return_sequences=True))\n",
        "model.add(SimpleRNN(32)) # last layer only returns output\n",
        "model.summary()"
      ],
      "execution_count": 5,
      "outputs": [
        {
          "output_type": "stream",
          "text": [
            "Model: \"sequential_3\"\n",
            "_________________________________________________________________\n",
            "Layer (type)                 Output Shape              Param #   \n",
            "=================================================================\n",
            "embedding_3 (Embedding)      (None, None, 32)          320000    \n",
            "_________________________________________________________________\n",
            "simple_rnn_7 (SimpleRNN)     (None, None, 32)          2080      \n",
            "_________________________________________________________________\n",
            "simple_rnn_8 (SimpleRNN)     (None, None, 32)          2080      \n",
            "_________________________________________________________________\n",
            "simple_rnn_9 (SimpleRNN)     (None, None, 32)          2080      \n",
            "_________________________________________________________________\n",
            "simple_rnn_10 (SimpleRNN)    (None, 32)                2080      \n",
            "=================================================================\n",
            "Total params: 328,320\n",
            "Trainable params: 328,320\n",
            "Non-trainable params: 0\n",
            "_________________________________________________________________\n"
          ],
          "name": "stdout"
        }
      ]
    },
    {
      "cell_type": "code",
      "metadata": {
        "id": "kyiO5Ry5hhgd",
        "colab_type": "code",
        "colab": {
          "base_uri": "https://localhost:8080/",
          "height": 68
        },
        "outputId": "83d7a4bd-dabc-4d87-ec5c-25a3a5037403"
      },
      "source": [
        "# IMDB example (first preprocess it)\n",
        "from keras.datasets import imdb\n",
        "from keras.preprocessing.sequence import pad_sequences\n",
        "\n",
        "max_features = 10000 # 1000 most common words\n",
        "maxlen = 500 # review cuts off after 500 words\n",
        "batch_size = 32 # needed?\n",
        "\n",
        "((train_data, train_targets), \n",
        " (test_data, test_targets)) = imdb.load_data(num_words=max_features)\n",
        "\n",
        "# pad the data \n",
        "x_train = pad_sequences(train_data, maxlen=maxlen)\n",
        "x_test = pad_sequences(test_data, maxlen=maxlen)\n",
        "print(x_train.shape, x_test.shape, len(train_data), len(test_data))"
      ],
      "execution_count": 8,
      "outputs": [
        {
          "output_type": "stream",
          "text": [
            "Downloading data from https://s3.amazonaws.com/text-datasets/imdb.npz\n",
            "17465344/17464789 [==============================] - 0s 0us/step\n",
            "(25000, 500) (25000, 500) 25000 25000\n"
          ],
          "name": "stdout"
        }
      ]
    },
    {
      "cell_type": "code",
      "metadata": {
        "id": "UqgOY_Iji5hk",
        "colab_type": "code",
        "colab": {
          "base_uri": "https://localhost:8080/",
          "height": 428
        },
        "outputId": "d2e88550-10e9-4b3b-c014-af3580eb8ce9"
      },
      "source": [
        "# train model\n",
        "from keras.layers import Dense\n",
        "\n",
        "model2 = Sequential()\n",
        "model2.add(Embedding(input_dim=max_features, output_dim=32)) # y not 3D?\n",
        "model2.add(SimpleRNN(32))\n",
        "model2.add(Dense(1, activation='sigmoid'))\n",
        "\n",
        "model2.compile(optimizer='rmsprop', loss='binary_crossentropy', metrics=['acc'])\n",
        "hist = model2.fit(x_train, train_targets, epochs=10, batch_size=128, \n",
        "                  validation_split=0.2)"
      ],
      "execution_count": 11,
      "outputs": [
        {
          "output_type": "stream",
          "text": [
            "/usr/local/lib/python3.6/dist-packages/tensorflow/python/framework/indexed_slices.py:434: UserWarning: Converting sparse IndexedSlices to a dense Tensor of unknown shape. This may consume a large amount of memory.\n",
            "  \"Converting sparse IndexedSlices to a dense Tensor of unknown shape. \"\n"
          ],
          "name": "stderr"
        },
        {
          "output_type": "stream",
          "text": [
            "Train on 20000 samples, validate on 5000 samples\n",
            "Epoch 1/10\n",
            "20000/20000 [==============================] - 25s 1ms/step - loss: 0.6693 - acc: 0.5810 - val_loss: 0.5684 - val_acc: 0.7074\n",
            "Epoch 2/10\n",
            "20000/20000 [==============================] - 23s 1ms/step - loss: 0.4578 - acc: 0.7949 - val_loss: 0.4003 - val_acc: 0.8282\n",
            "Epoch 3/10\n",
            "20000/20000 [==============================] - 23s 1ms/step - loss: 0.3186 - acc: 0.8706 - val_loss: 0.5547 - val_acc: 0.7858\n",
            "Epoch 4/10\n",
            "20000/20000 [==============================] - 23s 1ms/step - loss: 0.2576 - acc: 0.9008 - val_loss: 0.4264 - val_acc: 0.8360\n",
            "Epoch 5/10\n",
            "20000/20000 [==============================] - 23s 1ms/step - loss: 0.1842 - acc: 0.9325 - val_loss: 0.4370 - val_acc: 0.8270\n",
            "Epoch 6/10\n",
            "20000/20000 [==============================] - 23s 1ms/step - loss: 0.1218 - acc: 0.9582 - val_loss: 0.4758 - val_acc: 0.8324\n",
            "Epoch 7/10\n",
            "20000/20000 [==============================] - 23s 1ms/step - loss: 0.0785 - acc: 0.9750 - val_loss: 0.6010 - val_acc: 0.7882\n",
            "Epoch 8/10\n",
            "20000/20000 [==============================] - 23s 1ms/step - loss: 0.0459 - acc: 0.9865 - val_loss: 0.5891 - val_acc: 0.8146\n",
            "Epoch 9/10\n",
            "20000/20000 [==============================] - 23s 1ms/step - loss: 0.0251 - acc: 0.9931 - val_loss: 0.6636 - val_acc: 0.8114\n",
            "Epoch 10/10\n",
            "20000/20000 [==============================] - 23s 1ms/step - loss: 0.0177 - acc: 0.9953 - val_loss: 0.8011 - val_acc: 0.7774\n"
          ],
          "name": "stdout"
        }
      ]
    },
    {
      "cell_type": "code",
      "metadata": {
        "id": "C4wzQeIFkUY4",
        "colab_type": "code",
        "colab": {
          "base_uri": "https://localhost:8080/",
          "height": 545
        },
        "outputId": "1615fc27-0b9e-4da9-f93c-ca511d496d9b"
      },
      "source": [
        "import matplotlib.pyplot as plt\n",
        "\n",
        "acc = hist.history['acc']\n",
        "val_acc = hist.history['val_acc']\n",
        "loss = hist.history['loss']\n",
        "val_loss = hist.history['val_loss']\n",
        "epochs=range(1, len(acc) + 1)\n",
        "\n",
        "plt.plot(epochs, acc, 'bo', label='Training Acc')\n",
        "plt.plot(epochs, val_acc, 'b', label='Validation Acc')\n",
        "plt.title('Accuracy')\n",
        "plt.legend()\n",
        "plt.figure()\n",
        "plt.plot(epochs, loss, 'bo', label='Training Loss')\n",
        "plt.plot(epochs, val_loss, 'b', label='Validation Loss')\n",
        "plt.title('Loss')\n",
        "plt.legend()\n",
        "plt.show()\n",
        "\n",
        "# 84% peak accuracy\n",
        "# SimpleRNN not optimal for long seq (e.g. text)"
      ],
      "execution_count": 13,
      "outputs": [
        {
          "output_type": "display_data",
          "data": {
            "image/png": "[encoded data removed]",
            "text/plain": [
              "<Figure size 432x288 with 1 Axes>"
            ]
          },
          "metadata": {
            "tags": [],
            "needs_background": "light"
          }
        },
        {
          "output_type": "display_data",
          "data": {
            "image/png": "[encoded data removed]",
            "text/plain": [
              "<Figure size 432x288 with 1 Axes>"
            ]
          },
          "metadata": {
            "tags": [],
            "needs_background": "light"
          }
        }
      ]
    },
    {
      "cell_type": "code",
      "metadata": {
        "id": "QNcSNB9SpwHz",
        "colab_type": "code",
        "colab": {
          "base_uri": "https://localhost:8080/",
          "height": 275
        },
        "outputId": "ce0c22dd-3768-4047-ca2a-d4ce52d7ce02"
      },
      "source": [
        "# LSTM layers\n",
        "from keras.layers import LSTM\n",
        "\n",
        "model3 = Sequential()\n",
        "model3.add(Embedding(max_features, 32))\n",
        "model3.add(LSTM(32))\n",
        "model3.add(Dense(1, activation='sigmoid'))\n",
        "\n",
        "model3.compile(optimizer='rmsprop', loss='binary_crossentropy', metrics=['acc'])\n",
        "model3.fit(x_train, train_targets, epochs=5, batch_size=128, \n",
        "           validation_split=0.2)"
      ],
      "execution_count": 14,
      "outputs": [
        {
          "output_type": "stream",
          "text": [
            "/usr/local/lib/python3.6/dist-packages/tensorflow/python/framework/indexed_slices.py:434: UserWarning: Converting sparse IndexedSlices to a dense Tensor of unknown shape. This may consume a large amount of memory.\n",
            "  \"Converting sparse IndexedSlices to a dense Tensor of unknown shape. \"\n"
          ],
          "name": "stderr"
        },
        {
          "output_type": "stream",
          "text": [
            "Train on 20000 samples, validate on 5000 samples\n",
            "Epoch 1/5\n",
            "20000/20000 [==============================] - 66s 3ms/step - loss: 0.5404 - acc: 0.7504 - val_loss: 0.3769 - val_acc: 0.8504\n",
            "Epoch 2/5\n",
            "20000/20000 [==============================] - 65s 3ms/step - loss: 0.3075 - acc: 0.8806 - val_loss: 0.2892 - val_acc: 0.8834\n",
            "Epoch 3/5\n",
            "20000/20000 [==============================] - 65s 3ms/step - loss: 0.2377 - acc: 0.9108 - val_loss: 0.3224 - val_acc: 0.8614\n",
            "Epoch 4/5\n",
            "20000/20000 [==============================] - 66s 3ms/step - loss: 0.2067 - acc: 0.9251 - val_loss: 0.2838 - val_acc: 0.8846\n",
            "Epoch 5/5\n",
            "20000/20000 [==============================] - 66s 3ms/step - loss: 0.1791 - acc: 0.9348 - val_loss: 0.4580 - val_acc: 0.8148\n"
          ],
          "name": "stdout"
        },
        {
          "output_type": "execute_result",
          "data": {
            "text/plain": [
              "<keras.callbacks.callbacks.History at 0x7fa0eddf52b0>"
            ]
          },
          "metadata": {
            "tags": []
          },
          "execution_count": 14
        }
      ]
    },
    {
      "cell_type": "code",
      "metadata": {
        "id": "LYrblm3bqVUc",
        "colab_type": "code",
        "colab": {
          "base_uri": "https://localhost:8080/",
          "height": 68
        },
        "outputId": "9372df17-3d3e-492e-d88f-96200603a519"
      },
      "source": [
        "model2.evaluate(x_test, test_targets) # 50% test accuracy\n",
        "model3.evaluate(x_test, test_targets) # 80% test accuracy"
      ],
      "execution_count": 16,
      "outputs": [
        {
          "output_type": "stream",
          "text": [
            "25000/25000 [==============================] - 17s 669us/step\n",
            "25000/25000 [==============================] - 30s 1ms/step\n"
          ],
          "name": "stdout"
        },
        {
          "output_type": "execute_result",
          "data": {
            "text/plain": [
              "[0.499073562374115, 0.7975999712944031]"
            ]
          },
          "metadata": {
            "tags": []
          },
          "execution_count": 16
        }
      ]
    }
  ]
}