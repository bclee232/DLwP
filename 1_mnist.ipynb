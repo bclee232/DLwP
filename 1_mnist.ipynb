{
  "nbformat": 4,
  "nbformat_minor": 0,
  "metadata": {
    "colab": {
      "name": "mnist.ipynb",
      "provenance": [],
      "authorship_tag": "ABX9TyNdfaN8z7AnlpTjhkfWlybh",
      "include_colab_link": true
    },
    "kernelspec": {
      "name": "python3",
      "display_name": "Python 3"
    }
  },
  "cells": [
    {
      "cell_type": "markdown",
      "metadata": {
        "id": "view-in-github",
        "colab_type": "text"
      },
      "source": [
        "<a href=\"https://colab.research.google.com/github/bclee232/DLwP/blob/master/mnist.ipynb\" target=\"_parent\"><img src=\"https://colab.research.google.com/assets/colab-badge.svg\" alt=\"Open In Colab\"/></a>"
      ]
    },
    {
      "cell_type": "code",
      "metadata": {
        "id": "p8FOPBBI4Ses",
        "colab_type": "code",
        "colab": {
          "base_uri": "https://localhost:8080/",
          "height": 34
        },
        "outputId": "b6e7610c-778b-4ccc-a7eb-d61e23e59fb2"
      },
      "source": [
        "# loading the data\n",
        "from keras.datasets import mnist\n",
        "(train_images, train_labels), (test_images, test_labels) = mnist.load_data()"
      ],
      "execution_count": 1,
      "outputs": [
        {
          "output_type": "stream",
          "text": [
            "Using TensorFlow backend.\n"
          ],
          "name": "stderr"
        }
      ]
    },
    {
      "cell_type": "code",
      "metadata": {
        "id": "mSAYAduRYluU",
        "colab_type": "code",
        "colab": {
          "base_uri": "https://localhost:8080/",
          "height": 282
        },
        "outputId": "01c1df4b-af20-4adc-876c-ea3ef0803561"
      },
      "source": [
        "# tensor slicing\n",
        "import matplotlib.pyplot as plt\n",
        "\n",
        "digit = train_images[0]\n",
        "plt.imshow(digit, cmap=plt.cm.binary)\n",
        "plt.show()\n",
        "\n",
        "tensor_slice = train_images[10:100]\n",
        "print(tensor_slice.shape)\n",
        "\n",
        "bot_right_slice = train_images[:, 14:, 14:]\n",
        "mid_slice = train_images[:, 7:-7, 7:-7]"
      ],
      "execution_count": 2,
      "outputs": [
        {
          "output_type": "display_data",
          "data": {
            "image/png": "[encoded data removed]",
            "text/plain": [
              "<Figure size 432x288 with 1 Axes>"
            ]
          },
          "metadata": {
            "tags": [],
            "needs_background": "light"
          }
        },
        {
          "output_type": "stream",
          "text": [
            "(90, 28, 28)\n"
          ],
          "name": "stdout"
        }
      ]
    },
    {
      "cell_type": "code",
      "metadata": {
        "id": "BG9Zhpvb4k4W",
        "colab_type": "code",
        "colab": {}
      },
      "source": [
        "# network architecture\n",
        "from keras import models\n",
        "from keras import layers\n",
        "\n",
        "network = models.Sequential()\n",
        "network.add(layers.Dense(512, activation='relu', input_shape=(28*28,)))\n",
        "network.add(layers.Dense(10, activation='softmax'))"
      ],
      "execution_count": 3,
      "outputs": []
    },
    {
      "cell_type": "code",
      "metadata": {
        "id": "Vtu0iy8XPZL_",
        "colab_type": "code",
        "colab": {}
      },
      "source": [
        "\"\"\" preparing the data \"\"\"\n",
        "\n",
        "# compilation step - add optimiser, loss function, metrics\n",
        "network.compile(optimizer='rmsprop', loss='categorical_crossentropy', metrics=['accuracy'])\n",
        "\n",
        "# reshape and scale\n",
        "train_images = train_images.reshape((60000, 28 * 28))\n",
        "train_images = train_images.astype('float32') / 255\n",
        "test_images = test_images.reshape((10000, 28 * 28))\n",
        "test_images = test_images.astype('float32') / 255\n",
        "\n",
        "# categorically encode the labels\n",
        "from keras.utils import to_categorical\n",
        "train_labels = to_categorical(train_labels)\n",
        "test_labels = to_categorical(test_labels)"
      ],
      "execution_count": 4,
      "outputs": []
    },
    {
      "cell_type": "code",
      "metadata": {
        "id": "g-kCzhE4Q3y_",
        "colab_type": "code",
        "colab": {
          "base_uri": "https://localhost:8080/",
          "height": 204
        },
        "outputId": "338c7dc3-adf4-4829-c558-49d17d49e799"
      },
      "source": [
        "# training phase\n",
        "network.fit(train_images, train_labels, epochs=5, batch_size=128)"
      ],
      "execution_count": 5,
      "outputs": [
        {
          "output_type": "stream",
          "text": [
            "Epoch 1/5\n",
            "60000/60000 [==============================] - 4s 72us/step - loss: 0.2583 - accuracy: 0.9243\n",
            "Epoch 2/5\n",
            "60000/60000 [==============================] - 4s 69us/step - loss: 0.1042 - accuracy: 0.9689\n",
            "Epoch 3/5\n",
            "60000/60000 [==============================] - 4s 70us/step - loss: 0.0693 - accuracy: 0.9798\n",
            "Epoch 4/5\n",
            "60000/60000 [==============================] - 4s 69us/step - loss: 0.0498 - accuracy: 0.9852\n",
            "Epoch 5/5\n",
            "60000/60000 [==============================] - 4s 69us/step - loss: 0.0379 - accuracy: 0.9884\n"
          ],
          "name": "stdout"
        },
        {
          "output_type": "execute_result",
          "data": {
            "text/plain": [
              "<keras.callbacks.callbacks.History at 0x7f355175ca90>"
            ]
          },
          "metadata": {
            "tags": []
          },
          "execution_count": 5
        }
      ]
    },
    {
      "cell_type": "code",
      "metadata": {
        "id": "0KAlrTRKRhj1",
        "colab_type": "code",
        "colab": {
          "base_uri": "https://localhost:8080/",
          "height": 51
        },
        "outputId": "74f7089b-0d6a-4267-890a-4840821cb776"
      },
      "source": [
        "# test phase\n",
        "test_loss, test_acc = network.evaluate(test_images, test_labels)\n",
        "print(test_loss, test_acc)"
      ],
      "execution_count": 6,
      "outputs": [
        {
          "output_type": "stream",
          "text": [
            "10000/10000 [==============================] - 0s 47us/step\n",
            "0.06694749483759516 0.9789999723434448\n"
          ],
          "name": "stdout"
        }
      ]
    }
  ]
}
