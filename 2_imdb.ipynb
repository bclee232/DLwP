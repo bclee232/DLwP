{
  "nbformat": 4,
  "nbformat_minor": 0,
  "metadata": {
    "colab": {
      "name": "2_imdb.ipynb",
      "provenance": [],
      "authorship_tag": "ABX9TyO4fhBQDAcIWlghTh8sAtWD",
      "include_colab_link": true
    },
    "kernelspec": {
      "name": "python3",
      "display_name": "Python 3"
    }
  },
  "cells": [
    {
      "cell_type": "markdown",
      "metadata": {
        "id": "view-in-github",
        "colab_type": "text"
      },
      "source": [
        "<a href=\"https://colab.research.google.com/github/bclee232/DLwP/blob/master/2_imdb.ipynb\" target=\"_parent\"><img src=\"https://colab.research.google.com/assets/colab-badge.svg\" alt=\"Open In Colab\"/></a>"
      ]
    },
    {
      "cell_type": "markdown",
      "metadata": {
        "id": "7NmZtq_u1l_r",
        "colab_type": "text"
      },
      "source": [
        "**binary classification**"
      ]
    },
    {
      "cell_type": "code",
      "metadata": {
        "id": "s-pC01Ee7Ewd",
        "colab_type": "code",
        "colab": {
          "base_uri": "https://localhost:8080/",
          "height": 122
        },
        "outputId": "8c1ca896-f6b7-4e98-aa2b-0feb2c041e87"
      },
      "source": [
        "from keras.datasets import imdb\n",
        "\n",
        "(train_data, train_labels), (test_data, test_labels) = imdb.load_data(num_words=10000)\n",
        "print(train_data[1])\n",
        "print(train_labels[1])\n",
        "print(max([max(sequence) for sequence in train_data]))"
      ],
      "execution_count": 2,
      "outputs": [
        {
          "output_type": "stream",
          "text": [
            "Downloading data from https://s3.amazonaws.com/text-datasets/imdb.npz\n",
            "17465344/17464789 [==============================] - 0s 0us/step\n",
            "[1, 194, 1153, 194, 8255, 78, 228, 5, 6, 1463, 4369, 5012, 134, 26, 4, 715, 8, 118, 1634, 14, 394, 20, 13, 119, 954, 189, 102, 5, 207, 110, 3103, 21, 14, 69, 188, 8, 30, 23, 7, 4, 249, 126, 93, 4, 114, 9, 2300, 1523, 5, 647, 4, 116, 9, 35, 8163, 4, 229, 9, 340, 1322, 4, 118, 9, 4, 130, 4901, 19, 4, 1002, 5, 89, 29, 952, 46, 37, 4, 455, 9, 45, 43, 38, 1543, 1905, 398, 4, 1649, 26, 6853, 5, 163, 11, 3215, 2, 4, 1153, 9, 194, 775, 7, 8255, 2, 349, 2637, 148, 605, 2, 8003, 15, 123, 125, 68, 2, 6853, 15, 349, 165, 4362, 98, 5, 4, 228, 9, 43, 2, 1157, 15, 299, 120, 5, 120, 174, 11, 220, 175, 136, 50, 9, 4373, 228, 8255, 5, 2, 656, 245, 2350, 5, 4, 9837, 131, 152, 491, 18, 2, 32, 7464, 1212, 14, 9, 6, 371, 78, 22, 625, 64, 1382, 9, 8, 168, 145, 23, 4, 1690, 15, 16, 4, 1355, 5, 28, 6, 52, 154, 462, 33, 89, 78, 285, 16, 145, 95]\n",
            "0\n",
            "9999\n"
          ],
          "name": "stdout"
        }
      ]
    },
    {
      "cell_type": "code",
      "metadata": {
        "id": "SIecEl9d7k42",
        "colab_type": "code",
        "colab": {}
      },
      "source": [
        "import numpy as np\n",
        "\n",
        "# encode int sequence into 10000 dimensional vectors where 1 is at the index of int in sequence\n",
        "# 10000 as num_words=10000\n",
        "def vectorise_seq(seq, dim=10000):\n",
        "  res = np.zeros((len(seq), dim)) # 2D\n",
        "  for i, indiv_seq in enumerate(seq):\n",
        "    res[i, indiv_seq] = 1 # sets specific index to 1\n",
        "  return res "
      ],
      "execution_count": 4,
      "outputs": []
    },
    {
      "cell_type": "code",
      "metadata": {
        "id": "nAJ08vwe94j2",
        "colab_type": "code",
        "colab": {}
      },
      "source": [
        "# vectorise data\n",
        "x_train = vectorise_seq(train_data)\n",
        "x_test = vectorise_seq(test_data)\n",
        "\n",
        "# vectorise target (labels)\n",
        "y_train = np.asarray(train_labels).astype('float32')\n",
        "y_test = np.asarray(test_labels).astype('float32')"
      ],
      "execution_count": 5,
      "outputs": []
    },
    {
      "cell_type": "code",
      "metadata": {
        "id": "a9mJhs3o_z4l",
        "colab_type": "code",
        "colab": {
          "base_uri": "https://localhost:8080/",
          "height": 255
        },
        "outputId": "941fd5a3-9058-4d52-8eef-ebbf7d1369e7"
      },
      "source": [
        "# model definition\n",
        "from keras.models import Sequential\n",
        "from keras.layers import Dense\n",
        "\n",
        "model = Sequential()\n",
        "model.add(Dense(16, activation='relu', input_shape=(10000,)))\n",
        "model.add(Dense(16, activation='relu'))\n",
        "model.add(Dense(1, activation='sigmoid'))\n",
        "\n",
        "model.summary()"
      ],
      "execution_count": 6,
      "outputs": [
        {
          "output_type": "stream",
          "text": [
            "Model: \"sequential_1\"\n",
            "_________________________________________________________________\n",
            "Layer (type)                 Output Shape              Param #   \n",
            "=================================================================\n",
            "dense_1 (Dense)              (None, 16)                160016    \n",
            "_________________________________________________________________\n",
            "dense_2 (Dense)              (None, 16)                272       \n",
            "_________________________________________________________________\n",
            "dense_3 (Dense)              (None, 1)                 17        \n",
            "=================================================================\n",
            "Total params: 160,305\n",
            "Trainable params: 160,305\n",
            "Non-trainable params: 0\n",
            "_________________________________________________________________\n"
          ],
          "name": "stdout"
        }
      ]
    },
    {
      "cell_type": "code",
      "metadata": {
        "id": "fikoqIIgCiDg",
        "colab_type": "code",
        "colab": {
          "base_uri": "https://localhost:8080/",
          "height": 34
        },
        "outputId": "7f80bfbc-1cc8-4d92-ba94-79e9e0860359"
      },
      "source": [
        "# compilation\n",
        "model.compile(optimizer='rmsprop', loss='binary_crossentropy',metrics=['accuracy'])\n",
        "\"\"\"\n",
        "rmsprop optimizer is from keras.optimizers.RMZprop(lr=0.001)\n",
        "keras.losses.binary_crossentropy\n",
        "keras.metrics.binary_accuracy\n",
        "\"\"\""
      ],
      "execution_count": null,
      "outputs": [
        {
          "output_type": "execute_result",
          "data": {
            "text/plain": [
              "'\\nrmsprop optimizer is from keras.optimizers.RMZprop(lr=0.001)\\nkeras.losses.binary_crossentropy\\nkeras.metrics.binary_accuracy\\n'"
            ]
          },
          "metadata": {
            "tags": []
          },
          "execution_count": 5
        }
      ]
    },
    {
      "cell_type": "code",
      "metadata": {
        "id": "fqm8KosxDY__",
        "colab_type": "code",
        "colab": {}
      },
      "source": [
        "# validation set\n",
        "x_val = x_train[:10000]\n",
        "partial_x_train = x_train[10000:]\n",
        "\n",
        "y_val = y_train[:10000]\n",
        "partial_y_train = y_train[10000:]"
      ],
      "execution_count": null,
      "outputs": []
    },
    {
      "cell_type": "code",
      "metadata": {
        "id": "_RwLWkgljc6Q",
        "colab_type": "code",
        "colab": {}
      },
      "source": [
        "# training phase\n",
        "history = model.fit(partial_x_train, partial_y_train, batch_size=512, epochs=20, validation_data=(x_val, y_val))"
      ],
      "execution_count": null,
      "outputs": []
    },
    {
      "cell_type": "code",
      "metadata": {
        "id": "c_cnBHmwiCxa",
        "colab_type": "code",
        "colab": {
          "base_uri": "https://localhost:8080/",
          "height": 295
        },
        "outputId": "e147ea16-a59f-4712-c3f1-34e67715b147"
      },
      "source": [
        "# plotting loss\n",
        "import matplotlib.pyplot as plt\n",
        "\n",
        "hist_dict = history.history\n",
        "loss_values = hist_dict['loss']\n",
        "val_loss_values = hist_dict['val_loss']\n",
        "\n",
        "epochs = range(1, len(loss_values) + 1)\n",
        "# blue dot for loss values\n",
        "plt.plot(epochs, loss_values, 'bo', label='Training Loss')\n",
        "# solid blue line for validation loss val\n",
        "plt.plot(epochs, val_loss_values, 'b', label='Validation Loss')\n",
        "plt.title('Training and Validation Loss')\n",
        "plt.xlabel('Epochs')\n",
        "plt.ylabel('Loss')\n",
        "plt.legend()\n",
        "plt.show()"
      ],
      "execution_count": null,
      "outputs": [
        {
          "output_type": "display_data",
          "data": {
            "image/png": "[encoded data removed]",
            "text/plain": [
              "<Figure size 432x288 with 1 Axes>"
            ]
          },
          "metadata": {
            "tags": [],
            "needs_background": "light"
          }
        }
      ]
    },
    {
      "cell_type": "code",
      "metadata": {
        "id": "2poSNPnFkGvS",
        "colab_type": "code",
        "colab": {
          "base_uri": "https://localhost:8080/",
          "height": 265
        },
        "outputId": "46c13c80-d411-4bba-d4a7-10e0ed23db35"
      },
      "source": [
        "acc_values = hist_dict['accuracy']\n",
        "val_acc_values = hist_dict['val_accuracy']\n",
        "plt.plot(epochs, acc_values, 'bo', label='Training Accuracy')\n",
        "plt.plot(epochs, val_acc_values, 'b', label='Validation Accuracy')\n",
        "plt.show()"
      ],
      "execution_count": null,
      "outputs": [
        {
          "output_type": "display_data",
          "data": {
            "image/png": "[encoded data removed]",
            "text/plain": [
              "<Figure size 432x288 with 1 Axes>"
            ]
          },
          "metadata": {
            "tags": [],
            "needs_background": "light"
          }
        }
      ]
    },
    {
      "cell_type": "code",
      "metadata": {
        "id": "AH35FGXUkn8V",
        "colab_type": "code",
        "colab": {
          "base_uri": "https://localhost:8080/",
          "height": 51
        },
        "outputId": "2016612b-43e9-4401-ab39-08bb33853dd3"
      },
      "source": [
        "model.evaluate(x_test, y_test) # 85% accuracy"
      ],
      "execution_count": null,
      "outputs": [
        {
          "output_type": "stream",
          "text": [
            "25000/25000 [==============================] - 2s 67us/step\n"
          ],
          "name": "stdout"
        },
        {
          "output_type": "execute_result",
          "data": {
            "text/plain": [
              "[0.7878270896291732, 0.8504400253295898]"
            ]
          },
          "metadata": {
            "tags": []
          },
          "execution_count": 12
        }
      ]
    },
    {
      "cell_type": "code",
      "metadata": {
        "id": "nv8umgooll-L",
        "colab_type": "code",
        "colab": {}
      },
      "source": [
        "# new model\n",
        "better_model = Sequential()\n",
        "better_model.add(Dense(16, activation='relu', input_shape=(10000,)))\n",
        "better_model.add(Dense(16, activation='relu'))\n",
        "better_model.add(Dense(1, activation='sigmoid'))\n",
        "\n",
        "better_model.compile(optimizer='rmsprop', loss='binary_crossentropy', metrics=['acc'])\n",
        "better_model.fit(partial_x_train, partial_y_train, batch_size=512, epochs=4) # should have used full training set"
      ],
      "execution_count": null,
      "outputs": []
    },
    {
      "cell_type": "code",
      "metadata": {
        "id": "SyulD7NdmluZ",
        "colab_type": "code",
        "colab": {}
      },
      "source": [
        "better_model.evaluate(x_test, y_test) # 88% accuracy"
      ],
      "execution_count": null,
      "outputs": []
    },
    {
      "cell_type": "code",
      "metadata": {
        "id": "8xxhwIxamzkU",
        "colab_type": "code",
        "colab": {
          "base_uri": "https://localhost:8080/",
          "height": 255
        },
        "outputId": "c7b981df-b556-41fc-e7b6-935f1dce9a5d"
      },
      "source": [
        "# prediction (for positive review)\n",
        "pred = model.predict(x_test)\n",
        "better_pred = better_model.predict(x_test)\n",
        "print(pred)\n",
        "print(better_pred)"
      ],
      "execution_count": null,
      "outputs": [
        {
          "output_type": "stream",
          "text": [
            "[[1.2491345e-03]\n",
            " [9.9999899e-01]\n",
            " [9.2956066e-01]\n",
            " ...\n",
            " [1.9550323e-04]\n",
            " [1.5914142e-03]\n",
            " [8.0594301e-01]]\n",
            "[[0.26528654]\n",
            " [0.9990965 ]\n",
            " [0.9235958 ]\n",
            " ...\n",
            " [0.16933998]\n",
            " [0.20097175]\n",
            " [0.76948285]]\n"
          ],
          "name": "stdout"
        }
      ]
    },
    {
      "cell_type": "code",
      "metadata": {
        "id": "lxs8K3O_nZLc",
        "colab_type": "code",
        "colab": {
          "base_uri": "https://localhost:8080/",
          "height": 187
        },
        "outputId": "93fe7df0-a394-4beb-b58f-41a1b880bd70"
      },
      "source": [
        "# testing network architecture\n",
        "# 3 intermediate layers\n",
        "net = Sequential()\n",
        "net.add(Dense(16, activation='relu', input_shape=(10000,)))\n",
        "net.add(Dense(16, activation='relu'))\n",
        "net.add(Dense(16, activation='relu'))\n",
        "net.add(Dense(1, activation='sigmoid'))\n",
        "net.compile(optimizer='rmsprop', loss='binary_crossentropy', metrics=['accuracy'])\n",
        "net.fit(x_train, y_train, epochs=4, batch_size=512)\n",
        "net.evaluate(x_test, y_test) # a bit less"
      ],
      "execution_count": null,
      "outputs": [
        {
          "output_type": "stream",
          "text": [
            "Epoch 1/4\n",
            "25000/25000 [==============================] - 3s 117us/step - loss: 0.5058 - accuracy: 0.7905\n",
            "Epoch 2/4\n",
            "25000/25000 [==============================] - 2s 73us/step - loss: 0.2719 - accuracy: 0.9050\n",
            "Epoch 3/4\n",
            "25000/25000 [==============================] - 2s 72us/step - loss: 0.2025 - accuracy: 0.9276\n",
            "Epoch 4/4\n",
            "25000/25000 [==============================] - 2s 71us/step - loss: 0.1678 - accuracy: 0.9402\n",
            "25000/25000 [==============================] - 2s 76us/step\n"
          ],
          "name": "stdout"
        },
        {
          "output_type": "execute_result",
          "data": {
            "text/plain": [
              "[0.31848171660900115, 0.8760799765586853]"
            ]
          },
          "metadata": {
            "tags": []
          },
          "execution_count": 28
        }
      ]
    },
    {
      "cell_type": "code",
      "metadata": {
        "id": "lZVLwH15WZwG",
        "colab_type": "code",
        "colab": {
          "base_uri": "https://localhost:8080/",
          "height": 323
        },
        "outputId": "29e9d682-1102-4431-8bbd-0461d8ab1c26"
      },
      "source": [
        "# regularisation to prevent overfitting\n",
        "# reduce network's size and weight regularisation (0.001 * weight coeff)\n",
        "# 89% accuracy\n",
        "from keras import regularizers\n",
        "\n",
        "reg = Sequential()\n",
        "reg.add(Dense(4, kernel_regularizer=regularizers.l2(0.001), \n",
        "                      activation='relu', input_shape=(10000,)))\n",
        "reg.add(Dense(4, kernel_regularizer=regularizers.l2(0.001),\n",
        "                      activation='relu'))\n",
        "reg.add(Dense(1, activation='sigmoid'))\n",
        "reg.compile(optimizer='rmsprop', loss='binary_crossentropy', \n",
        "                    metrics=['acc'])\n",
        "reg.fit(x_train, y_train, epochs=8, batch_size=512)\n",
        "reg.evaluate(x_test, y_test)\n",
        "\n"
      ],
      "execution_count": 11,
      "outputs": [
        {
          "output_type": "stream",
          "text": [
            "Epoch 1/8\n",
            "25000/25000 [==============================] - 2s 61us/step - loss: 0.5932 - acc: 0.7275\n",
            "Epoch 2/8\n",
            "25000/25000 [==============================] - 1s 60us/step - loss: 0.4430 - acc: 0.8790\n",
            "Epoch 3/8\n",
            "25000/25000 [==============================] - 1s 58us/step - loss: 0.3384 - acc: 0.9107\n",
            "Epoch 4/8\n",
            "25000/25000 [==============================] - 1s 58us/step - loss: 0.2816 - acc: 0.9212\n",
            "Epoch 5/8\n",
            "25000/25000 [==============================] - 1s 58us/step - loss: 0.2545 - acc: 0.9280\n",
            "Epoch 6/8\n",
            "25000/25000 [==============================] - 1s 58us/step - loss: 0.2368 - acc: 0.9338\n",
            "Epoch 7/8\n",
            "25000/25000 [==============================] - 1s 58us/step - loss: 0.2252 - acc: 0.9368\n",
            "Epoch 8/8\n",
            "25000/25000 [==============================] - 1s 58us/step - loss: 0.2163 - acc: 0.9408\n",
            "25000/25000 [==============================] - 2s 61us/step\n"
          ],
          "name": "stdout"
        },
        {
          "output_type": "execute_result",
          "data": {
            "text/plain": [
              "[0.3209235328865051, 0.8857200145721436]"
            ]
          },
          "metadata": {
            "tags": []
          },
          "execution_count": 11
        }
      ]
    }
  ]
}